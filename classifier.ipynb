{
 "cells": [
  {
   "attachments": {},
   "cell_type": "markdown",
   "metadata": {},
   "source": [
    "# Russia-Ukraine war - sentiment analysis for Bulgarian news articles\n",
    "\n",
    "### Data set\n",
    "\n",
    "The data set is fetched from several news agencies in Bulgarian language.\n",
    "\n",
    "A custom crawler utilizing the `npm` package `crawler`, Google's `Puppeteer` and basic HTTP requests was created in order for the dataset to be collected. This was needed, because different websites had different requirements in order for the pages to render correctly. One of the websites had Cloudflare protection, which has bypassed by the `Puppeteer` part of the crawler.\n",
    "\n",
    "`JSDOM` library was used for server-side DOM manipulation in order for the articles to be clean of clutter and unnecessary pieces of information - images, ads, tags, etc.\n",
    "\n",
    "The websites' articles are classifed as follows:\n",
    "\n",
    "**Pro - West**\n",
    "- Mediapool - https://www.mediapool.bg/voina-v-ukraina-cat90.html\n",
    "- Dnevnik - https://www.dnevnik.bg/ajax/section/temi/voinata_v_evropa/0/0\n",
    "- Svobodna Evropa - https://www.svobodnaevropa.bg/s?k=%D1%83%D0%BA%D1%80%D0%B0%D0%B9%D0%BD%D0%B0&tab=all&pi=1&r=any&pp=20\n",
    "\n",
    "**Pro - Russia**\n",
    "- Blitz - https://blitz.bg/voinata?page=1\n",
    "- Pogled Info - https://pogled.info/search/?q=%D1%83%D0%BA%D1%80%D0%B0%D0%B9%D0%BD%D0%B0\n",
    "- Epicenter - https://epicenter.bg/search/%D1%83%D0%BA%D1%80%D0%B0%D0%B9%D0%BD%D0%B0/1\n",
    "- Fakti - https://fakti.bg/search?q=%D1%83%D0%BA%D1%80%D0%B0%D0%B9%D0%BD%D0%B0&page=1\n",
    "- Istinata - https://istinata.net/page/1/?s=%D1%83%D0%BA%D1%80%D0%B0%D0%B9%D0%BD%D0%B0\n",
    "- V Chas - https://vchas.net/page/1/?s=%D1%83%D0%BA%D1%80%D0%B0%D0%B9%D0%BD%D0%B0\n",
    "\n",
    "\n",
    "#### Source of inspiration:\n",
    "- https://hssfoundation.org/wp-content/uploads/2022/06/%D0%94%D0%BE%D0%BA%D0%BB%D0%B0%D0%B4.-%D0%A0%D1%83%D1%81%D0%BA%D0%B0%D1%82%D0%B0-%D0%BF%D1%80%D0%BE%D0%BF%D0%B0%D0%B3%D0%B0%D0%BD%D0%B4%D0%B0.-%D0%92%D1%82%D0%BE%D1%80%D0%B0-%D1%87%D0%B0%D1%81%D1%82.pdf"
   ]
  },
  {
   "attachments": {},
   "cell_type": "markdown",
   "metadata": {},
   "source": [
    "### Example entry from the dataset"
   ]
  },
  {
   "cell_type": "code",
   "execution_count": 253,
   "metadata": {},
   "outputs": [
    {
     "data": {
      "text/html": [
       "<div>\n",
       "<style scoped>\n",
       "    .dataframe tbody tr th:only-of-type {\n",
       "        vertical-align: middle;\n",
       "    }\n",
       "\n",
       "    .dataframe tbody tr th {\n",
       "        vertical-align: top;\n",
       "    }\n",
       "\n",
       "    .dataframe thead th {\n",
       "        text-align: right;\n",
       "    }\n",
       "</style>\n",
       "<table border=\"1\" class=\"dataframe\">\n",
       "  <thead>\n",
       "    <tr style=\"text-align: right;\">\n",
       "      <th></th>\n",
       "      <th>title</th>\n",
       "      <th>text</th>\n",
       "      <th>sentiment</th>\n",
       "    </tr>\n",
       "  </thead>\n",
       "  <tbody>\n",
       "    <tr>\n",
       "      <th>0</th>\n",
       "      <td>Медведев заговори за трета световна война и от...</td>\n",
       "      <td>\"Ако избухне трета световна война, уви, тя ням...</td>\n",
       "      <td>pro-russian</td>\n",
       "    </tr>\n",
       "    <tr>\n",
       "      <th>1</th>\n",
       "      <td>Русия увеличи корабите в Черно море, вече може...</td>\n",
       "      <td>Русия е увеличила броя на корабите в Черно мор...</td>\n",
       "      <td>pro-russian</td>\n",
       "    </tr>\n",
       "    <tr>\n",
       "      <th>2</th>\n",
       "      <td>Таролог с прогноза за ключов момент във войнат...</td>\n",
       "      <td>Украинците са все по-изплашени от циркулиращит...</td>\n",
       "      <td>pro-russian</td>\n",
       "    </tr>\n",
       "    <tr>\n",
       "      <th>3</th>\n",
       "      <td>ВИДЕО от войната: ВСУ удари с HIMARS болница в...</td>\n",
       "      <td>Въоръжените сили на Украйна са обстрелвали гра...</td>\n",
       "      <td>pro-russian</td>\n",
       "    </tr>\n",
       "    <tr>\n",
       "      <th>4</th>\n",
       "      <td>Шолц посочи целта на Германия за Украйна</td>\n",
       "      <td>Целта на Германия е да не допусне разширяванет...</td>\n",
       "      <td>pro-russian</td>\n",
       "    </tr>\n",
       "  </tbody>\n",
       "</table>\n",
       "</div>"
      ],
      "text/plain": [
       "                                               title  \\\n",
       "0  Медведев заговори за трета световна война и от...   \n",
       "1  Русия увеличи корабите в Черно море, вече може...   \n",
       "2  Таролог с прогноза за ключов момент във войнат...   \n",
       "3  ВИДЕО от войната: ВСУ удари с HIMARS болница в...   \n",
       "4          Шолц посочи целта на Германия за Украйна    \n",
       "\n",
       "                                                text    sentiment  \n",
       "0  \"Ако избухне трета световна война, уви, тя ням...  pro-russian  \n",
       "1  Русия е увеличила броя на корабите в Черно мор...  pro-russian  \n",
       "2  Украинците са все по-изплашени от циркулиращит...  pro-russian  \n",
       "3  Въоръжените сили на Украйна са обстрелвали гра...  pro-russian  \n",
       "4  Целта на Германия е да не допусне разширяванет...  pro-russian  "
      ]
     },
     "execution_count": 253,
     "metadata": {},
     "output_type": "execute_result"
    }
   ],
   "source": [
    "import numpy as np # linear algebra\n",
    "import pandas as pd # data processing, CSV file I/O (e.g. pd.read_csv)\n",
    "\n",
    "data = pd.read_json('./data-merged.json')\n",
    "\n",
    "# Keeping only the neccessary columns\n",
    "data = data[['title', 'text','sentiment']]\n",
    "\n",
    "data.head()"
   ]
  },
  {
   "attachments": {},
   "cell_type": "markdown",
   "metadata": {},
   "source": [
    "# Preparing the data"
   ]
  },
  {
   "cell_type": "code",
   "execution_count": 254,
   "metadata": {},
   "outputs": [],
   "source": [
    "X = data.drop(['sentiment'], axis=1)\n",
    "\n",
    "y = data['sentiment']"
   ]
  },
  {
   "attachments": {},
   "cell_type": "markdown",
   "metadata": {},
   "source": [
    "### Removing Stop words\n",
    "\n",
    "\n",
    "Stop words used:"
   ]
  },
  {
   "cell_type": "code",
   "execution_count": 297,
   "metadata": {},
   "outputs": [
    {
     "name": "stdout",
     "output_type": "stream",
     "text": [
      "['а', 'автентичен', 'аз', 'ако', 'ала', 'бе', 'без', 'беше', 'би', 'бивш', 'бивша', 'бившо', 'бил', 'била', 'били', 'било', 'благодаря', 'близо', 'бъдат', 'бъде', 'бяха', 'в', 'вас', 'ваш', 'ваша', 'вероятно', 'вече', 'взема', 'ви', 'вие', 'винаги', 'внимава', 'време', 'все', 'всеки', 'всички', 'всичко', 'всяка', 'във', 'въпреки', 'върху', 'г', 'ги', 'главен', 'главна', 'главно', 'глас', 'го', 'година', 'години', 'годишен', 'д', 'да', 'дали', 'два', 'двама', 'двамата', 'две', 'двете', 'ден', 'днес', 'дни', 'до', 'добра', 'добре', 'добро', 'добър', 'докато', 'докога', 'дори', 'досега', 'доста', 'друг', 'друга', 'други', 'е', 'евтин', 'едва', 'един', 'една', 'еднаква', 'еднакви', 'еднакъв', 'едно', 'екип', 'ето', 'живот', 'за', 'забавям', 'зад', 'заедно', 'заради', 'засега', 'заспал', 'затова', 'защо', 'защото', 'и', 'из', 'или', 'им', 'има', 'имат', 'иска', 'й', 'каза', 'как', 'каква', 'какво', 'както', 'какъв', 'като', 'кога', 'когато', 'което', 'които', 'кой', 'който', 'колко', 'която', 'къде', 'където', 'към', 'лесен', 'лесно', 'ли', 'лош', 'м', 'май', 'малко', 'ме', 'между', 'мек', 'мен', 'месец', 'ми', 'много', 'мнозина', 'мога', 'могат', 'може', 'мокър', 'моля', 'момента', 'му', 'н', 'на', 'над', 'назад', 'най', 'направи', 'напред', 'например', 'нас', 'не', 'него', 'нещо', 'нея', 'ни', 'ние', 'никой', 'нито', 'нищо', 'но', 'нов', 'нова', 'нови', 'новина', 'някои', 'някой', 'няколко', 'няма', 'обаче', 'около', 'освен', 'особено', 'от', 'отгоре', 'отново', 'още', 'пак', 'по', 'повече', 'повечето', 'под', 'поне', 'поради', 'после', 'почти', 'прави', 'пред', 'преди', 'през', 'при', 'пък', 'първата', 'първи', 'първо', 'пъти', 'равен', 'равна', 'с', 'са', 'сам', 'само', 'се', 'сега', 'си', 'син', 'скоро', 'след', 'следващ', 'сме', 'смях', 'според', 'сред', 'срещу', 'сте', 'съм', 'със', 'също', 'т', 'т.н.', 'тази', 'така', 'такива', 'такова', 'такъв', 'там', 'твой', 'те', 'тези', 'ти', 'то', 'това', 'тогава', 'този', 'той', 'толкова', 'точно', 'три', 'трябва', 'тук', 'тъй', 'туй', 'тя', 'тях', 'у', 'утре', 'харесва', 'хиляди', 'ч', 'часа', 'че', 'често', 'чрез', 'ще', 'щом', 'юмрук', 'я', 'як']\n"
     ]
    }
   ],
   "source": [
    "import json\n",
    "  \n",
    "stop_words_file = open('./stopwords.json', encoding='utf-8')\n",
    "\n",
    "stop = json.load(stop_words_file)\n",
    "stop_words_file.close()\n",
    "\n",
    "print(stop)"
   ]
  },
  {
   "attachments": {},
   "cell_type": "markdown",
   "metadata": {},
   "source": [
    "### Removal of the stop words:"
   ]
  },
  {
   "cell_type": "code",
   "execution_count": 256,
   "metadata": {},
   "outputs": [],
   "source": [
    "# Actual removal of stop words\n",
    "X['text'] = X['text'].apply(lambda x: ' '.join([word.lower() for word in x.split()]))\n",
    "X['text'] = X['text'].apply(lambda x: ' '.join([word for word in x.split() if word not in (stop)]))\n",
    "\n",
    "X['title'] = X['title'].apply(lambda x: ' '.join([word.lower() for word in x.split()]))\n",
    "X['title'] = X['title'].apply(lambda x: ' '.join([word for word in x.split() if word not in (stop)]))"
   ]
  },
  {
   "attachments": {},
   "cell_type": "markdown",
   "metadata": {},
   "source": [
    "### Stemming with BulStemmer"
   ]
  },
  {
   "cell_type": "code",
   "execution_count": 257,
   "metadata": {},
   "outputs": [
    {
     "name": "stdout",
     "output_type": "stream",
     "text": [
      "0       \"ако избухн трета светов война, уви, танк изтр...\n",
      "1       руси увелич броя кораб черн море 16 единици. о...\n",
      "2       украин по-изплаш циркулира информации, руси го...\n",
      "3       въоръж сили укра обстрелв град новоайдар луган...\n",
      "4       целт герма допусн разширяван грани руси \"изпол...\n",
      "                              ...                        \n",
      "1726    същот отдел ноемвр обем стокообме страни възли...\n",
      "1727    съедин американск щати предлож различ модел пр...\n",
      "1728    извест астроло дмитри ура прогноз съдб укра ид...\n",
      "1729    мирът укра завис сащ, украин воюва американ пр...\n",
      "1730    руск нашествени обстрелв цент херсон, уби пети...\n",
      "Name: text, Length: 1731, dtype: object\n",
      "0         медведев заговор трета светов войн отсече: е...\n",
      "1         руси увелич кораб черн море, изстрел украйна...\n",
      "2                   тароло прогноз ключов момент войната,\n",
      "3       видео войната: всу удар himars болниц луганск ...\n",
      "4                              шолц посоч целт герма укра\n",
      "                              ...                        \n",
      "1726              кита загърб украйна, данн показват, че…\n",
      "1727                    wp: вашингтон допусн сценар за...\n",
      "1728                       астроло черн прогноз укра в...\n",
      "1729                   орбан: мирът укра завис сащ, не...\n",
      "1730                  боев укра продължава навечерието...\n",
      "Name: title, Length: 1731, dtype: object\n"
     ]
    }
   ],
   "source": [
    "from bulstem.stem import BulStemmer\n",
    "\n",
    "stemmer = BulStemmer.from_file('stem_rules_context_2_UTF-8.txt', min_freq=2, left_context=2)\n",
    "\n",
    "\n",
    "X['text'] = X['text'].apply(lambda x: ' '.join([stemmer.stem(word) for word in x.split()]))\n",
    "X['title'] = X['title'].apply(lambda x: ' '.join([stemmer.stem(word) for word in x.split()]))\n",
    "\n",
    "print(X['text']);\n",
    "print(X['title'])"
   ]
  },
  {
   "attachments": {},
   "cell_type": "markdown",
   "metadata": {},
   "source": [
    "# Defining some utility functions"
   ]
  },
  {
   "cell_type": "code",
   "execution_count": 258,
   "metadata": {},
   "outputs": [],
   "source": [
    "def average(lst):\n",
    "    return sum(lst) / len(lst)\n",
    "\n",
    "import matplotlib.pyplot as plt\n",
    "\n",
    "def plot_accuracy(title, accuracy_per_fold, average_accuracy_per_fold):\n",
    "    # x axis values\n",
    "    x_plot = []\n",
    "    for fold_index, _ in enumerate(accuracy_per_fold):\n",
    "        x_plot.append(fold_index + 1)\n",
    "    # corresponding y axis values\n",
    "    y_plot = accuracy_per_fold\n",
    "    \n",
    "    # plotting the points \n",
    "    plt.plot(x_plot, y_plot)\n",
    "    \n",
    "    # naming the x axis\n",
    "    plt.xlabel('Fold #')\n",
    "    # naming the y axis\n",
    "    plt.ylabel('Accuracy')\n",
    "\n",
    "    plt.grid(True)\n",
    "\n",
    "    plt.axhline(y = average_accuracy_per_fold, color = 'r', linestyle = '-', label = 'Average (%f)' % average_accuracy_per_fold)\n",
    "\n",
    "    # plotting the legend\n",
    "    plt.legend(bbox_to_anchor = (.22, 1), loc = 'upper center')\n",
    "    \n",
    "    # giving a title to my graph\n",
    "    plt.title(title)\n",
    "\n",
    "from sklearn.neighbors import KNeighborsClassifier\n",
    "from sklearn.model_selection import cross_val_score\n",
    "\n",
    "def find_optimal_k(X_train, y_train, myList):\n",
    "   \n",
    "    #creating odd list of K for KNN\n",
    "    #myList = list(range(0,40))\n",
    "    neighbors = list(filter(lambda x: x % 2 != 0, myList))\n",
    "\n",
    "    # empty list that will hold cv scores\n",
    "    cv_scores = []\n",
    "\n",
    "    # perform 10-fold cross validation\n",
    "    for k in neighbors:\n",
    "        knn = KNeighborsClassifier(n_neighbors=k)\n",
    "        scores = cross_val_score(knn, X_train, y_train, cv=10, scoring='accuracy')\n",
    "        cv_scores.append(scores.mean())\n",
    "\n",
    "    # changing to misclassification error\n",
    "    MSE = [1 - x for x in cv_scores]\n",
    "\n",
    "    # determining best k\n",
    "    optimal_k = neighbors[MSE.index(min(MSE))]\n",
    "    print('\\nThe optimal number of neighbors is %d.' % optimal_k)\n",
    "\n",
    "\n",
    "    plt.figure(figsize=(10,6))\n",
    "    plt.plot(list(filter(lambda x: x % 2 != 0, myList)),MSE,color='blue', linestyle='dashed', marker='o',\n",
    "             markerfacecolor='red', markersize=10)\n",
    "    plt.title('Error Rate vs. K Value')\n",
    "    plt.xlabel('K')\n",
    "    plt.ylabel('Error Rate')\n",
    "\n",
    "    print('The misclassification error for each k value is : ', np.round(MSE,3))\n",
    "    \n",
    "    return optimal_k"
   ]
  },
  {
   "attachments": {},
   "cell_type": "markdown",
   "metadata": {},
   "source": [
    "# Defining some common imports"
   ]
  },
  {
   "cell_type": "code",
   "execution_count": 259,
   "metadata": {},
   "outputs": [],
   "source": [
    "# split X and y into training and testing sets\n",
    "from sklearn.model_selection import KFold\n",
    "from sklearn.preprocessing import RobustScaler\n",
    "from sklearn import metrics\n",
    "\n",
    "import category_encoders as ce"
   ]
  },
  {
   "attachments": {},
   "cell_type": "markdown",
   "metadata": {},
   "source": [
    "# One-hot encoding of words\n",
    "\n",
    "## Gaussian Native Bayes"
   ]
  },
  {
   "cell_type": "code",
   "execution_count": 260,
   "metadata": {},
   "outputs": [
    {
     "name": "stdout",
     "output_type": "stream",
     "text": [
      "Fold:1, Train set: 1384, Test set:347\n",
      "Fold:2, Train set: 1385, Test set:346\n",
      "Fold:3, Train set: 1385, Test set:346\n",
      "Fold:4, Train set: 1385, Test set:346\n",
      "Fold:5, Train set: 1385, Test set:346\n"
     ]
    }
   ],
   "source": [
    "from sklearn.naive_bayes import GaussianNB\n",
    "\n",
    "kf = KFold(n_splits=5, shuffle=True, random_state=42)\n",
    "\n",
    "gnb_accuracy_per_fold = []\n",
    "\n",
    "# split()  method generate indices to split data into training and test set.\n",
    "for fold_index, (train_index, test_index) in enumerate(kf.split(X, y)):\n",
    "    print(f'Fold:{fold_index + 1}, Train set: {len(train_index)}, Test set:{len(test_index)}')\n",
    "    X_train, X_test = X.iloc[train_index], X.iloc[test_index]\n",
    "    y_train, y_test = y[train_index], y[test_index]\n",
    "\n",
    "    # display categorical variables\n",
    "    categorical = [col for col in X_train.columns if X_train[col].dtypes == 'O']\n",
    "\n",
    "    encoder = ce.OneHotEncoder(cols=categorical)\n",
    "\n",
    "    X_train = encoder.fit_transform(X_train)\n",
    "    X_test = encoder.transform(X_test)\n",
    "\n",
    "    cols = X_train.columns\n",
    "\n",
    "    scaler = RobustScaler()\n",
    "\n",
    "    X_train = scaler.fit_transform(X_train)\n",
    "    X_test = scaler.transform(X_test)\n",
    "\n",
    "    X_train = pd.DataFrame(X_train, columns=[cols])\n",
    "    X_test = pd.DataFrame(X_test, columns=[cols])\n",
    "\n",
    "\n",
    "    # instantiate the model\n",
    "    gnb = GaussianNB()\n",
    "\n",
    "\n",
    "    # fit the model\n",
    "    gnb.fit(X_train.values, y_train)\n",
    "\n",
    "    y_pred = gnb.predict(X_test.values)\n",
    "\n",
    "    gnb_accuracy_per_fold.append(metrics.accuracy_score(y_test, y_pred));"
   ]
  },
  {
   "cell_type": "code",
   "execution_count": 261,
   "metadata": {},
   "outputs": [
    {
     "data": {
      "text/plain": [
       "[0.4956772334293948,\n",
       " 0.5202312138728323,\n",
       " 0.523121387283237,\n",
       " 0.4624277456647399,\n",
       " 0.5433526011560693]"
      ]
     },
     "execution_count": 261,
     "metadata": {},
     "output_type": "execute_result"
    }
   ],
   "source": [
    "gnb_accuracy_per_fold"
   ]
  },
  {
   "cell_type": "code",
   "execution_count": 262,
   "metadata": {},
   "outputs": [
    {
     "name": "stdout",
     "output_type": "stream",
     "text": [
      "Average accuracy:  0.5089620362812546\n"
     ]
    }
   ],
   "source": [
    "gnb_average_accuracy_per_fold = average(gnb_accuracy_per_fold)\n",
    "\n",
    "print(\"Average accuracy: \", gnb_average_accuracy_per_fold)"
   ]
  },
  {
   "cell_type": "code",
   "execution_count": 263,
   "metadata": {},
   "outputs": [
    {
     "data": {
      "image/png": "[encoded data removed]",
      "text/plain": [
       "<Figure size 432x288 with 1 Axes>"
      ]
     },
     "metadata": {
      "needs_background": "light"
     },
     "output_type": "display_data"
    }
   ],
   "source": [
    "plot_accuracy('GNB: Accuracy per fold', gnb_accuracy_per_fold, gnb_average_accuracy_per_fold)"
   ]
  },
  {
   "attachments": {},
   "cell_type": "markdown",
   "metadata": {},
   "source": [
    "## k Nearest Neighbours"
   ]
  },
  {
   "cell_type": "code",
   "execution_count": 264,
   "metadata": {},
   "outputs": [
    {
     "name": "stdout",
     "output_type": "stream",
     "text": [
      "\n",
      "The optimal number of neighbors is 3.\n",
      "the misclassification error for each k value is :  [0.291 0.29  0.493 0.493 0.496 0.512 0.531 0.552 0.569 0.573 0.573 0.573\n",
      " 0.573 0.573 0.569 0.555 0.556 0.572 0.573 0.573 0.573 0.577 0.584 0.584\n",
      " 0.584]\n",
      "Fold:1, Train set: 1384, Test set:347\n",
      "Fold:2, Train set: 1385, Test set:346\n",
      "Fold:3, Train set: 1385, Test set:346\n",
      "Fold:4, Train set: 1385, Test set:346\n",
      "Fold:5, Train set: 1385, Test set:346\n"
     ]
    },
    {
     "data": {
      "image/png": "[encoded data removed]",
      "text/plain": [
       "<Figure size 720x432 with 1 Axes>"
      ]
     },
     "metadata": {
      "needs_background": "light"
     },
     "output_type": "display_data"
    }
   ],
   "source": [
    "kf = KFold(n_splits=5, shuffle=True, random_state=42)\n",
    "\n",
    "kNN_accuracy_per_fold = []\n",
    "\n",
    "train_index, test_index = next(kf.split(X, y))\n",
    "\n",
    "X_train, X_test = X.iloc[train_index], X.iloc[test_index]\n",
    "y_train, y_test = y[train_index], y[test_index]\n",
    "\n",
    "# display categorical variables\n",
    "categorical = [col for col in X_train.columns if X_train[col].dtypes == 'O']\n",
    "\n",
    "encoder = ce.OneHotEncoder(cols=categorical)\n",
    "\n",
    "X_train = encoder.fit_transform(X_train)\n",
    "X_test = encoder.transform(X_test)\n",
    "\n",
    "k_range = list(range(0,50))\n",
    "\n",
    "optimal_k = find_optimal_k(X_train, y_train, k_range)\n",
    "\n",
    "# split()  method generate indices to split data into training and test set.\n",
    "for fold_index, (train_index, test_index) in enumerate(kf.split(X, y)):\n",
    "    print(f'Fold:{fold_index + 1}, Train set: {len(train_index)}, Test set:{len(test_index)}')\n",
    "    X_train, X_test = X.iloc[train_index], X.iloc[test_index]\n",
    "    y_train, y_test = y[train_index], y[test_index]\n",
    "\n",
    "    # display categorical variables\n",
    "    categorical = [col for col in X_train.columns if X_train[col].dtypes == 'O']\n",
    "\n",
    "    encoder = ce.OneHotEncoder(cols=categorical)\n",
    "\n",
    "    X_train = encoder.fit_transform(X_train)\n",
    "    X_test = encoder.transform(X_test)\n",
    "\n",
    "    cols = X_train.columns\n",
    "\n",
    "    scaler = RobustScaler()\n",
    "\n",
    "    X_train = scaler.fit_transform(X_train)\n",
    "    X_test = scaler.transform(X_test)\n",
    "\n",
    "    X_train = pd.DataFrame(X_train, columns=[cols])\n",
    "    X_test = pd.DataFrame(X_test, columns=[cols])\n",
    "\n",
    "\n",
    "    # instantiate the model\n",
    "    kNN = KNeighborsClassifier(n_neighbors=3)\n",
    "\n",
    "\n",
    "    # fit the model\n",
    "    kNN.fit(X_train.values, y_train)\n",
    "\n",
    "    y_pred = kNN.predict(X_test.values)\n",
    "\n",
    "    kNN_accuracy_per_fold.append(metrics.accuracy_score(y_test, y_pred));"
   ]
  },
  {
   "cell_type": "code",
   "execution_count": 265,
   "metadata": {},
   "outputs": [
    {
     "data": {
      "text/plain": [
       "[0.7146974063400576,\n",
       " 0.7254335260115607,\n",
       " 0.6936416184971098,\n",
       " 0.7976878612716763,\n",
       " 0.6936416184971098]"
      ]
     },
     "execution_count": 265,
     "metadata": {},
     "output_type": "execute_result"
    }
   ],
   "source": [
    "kNN_accuracy_per_fold"
   ]
  },
  {
   "cell_type": "code",
   "execution_count": 266,
   "metadata": {},
   "outputs": [
    {
     "name": "stdout",
     "output_type": "stream",
     "text": [
      "Average accuracy:  0.7250204061235029\n"
     ]
    }
   ],
   "source": [
    "kNN_average_accuracy_per_fold = average(kNN_accuracy_per_fold)\n",
    "\n",
    "print(\"Average accuracy: \", kNN_average_accuracy_per_fold)"
   ]
  },
  {
   "cell_type": "code",
   "execution_count": 267,
   "metadata": {},
   "outputs": [
    {
     "data": {
      "image/png": "[encoded data removed]",
      "text/plain": [
       "<Figure size 432x288 with 1 Axes>"
      ]
     },
     "metadata": {
      "needs_background": "light"
     },
     "output_type": "display_data"
    }
   ],
   "source": [
    "plot_accuracy('kNN: Accuracy per fold', kNN_accuracy_per_fold, kNN_average_accuracy_per_fold)"
   ]
  },
  {
   "attachments": {},
   "cell_type": "markdown",
   "metadata": {},
   "source": [
    "## Support-Vector machines"
   ]
  },
  {
   "cell_type": "code",
   "execution_count": 268,
   "metadata": {},
   "outputs": [
    {
     "name": "stdout",
     "output_type": "stream",
     "text": [
      "Fold:1, Train set: 1384, Test set:347\n",
      "Fold:2, Train set: 1385, Test set:346\n",
      "Fold:3, Train set: 1385, Test set:346\n",
      "Fold:4, Train set: 1385, Test set:346\n",
      "Fold:5, Train set: 1385, Test set:346\n"
     ]
    }
   ],
   "source": [
    "from sklearn.svm import SVC\n",
    "\n",
    "kf = KFold(n_splits=5, shuffle=True, random_state=42)\n",
    "\n",
    "SVM_accuracy_per_fold = []\n",
    "\n",
    "# split()  method generate indices to split data into training and test set.\n",
    "for fold_index, (train_index, test_index) in enumerate(kf.split(X, y)):\n",
    "    print(f'Fold:{fold_index + 1}, Train set: {len(train_index)}, Test set:{len(test_index)}')\n",
    "    X_train, X_test = X.iloc[train_index], X.iloc[test_index]\n",
    "    y_train, y_test = y[train_index], y[test_index]\n",
    "\n",
    "    # display categorical variables\n",
    "    categorical = [col for col in X_train.columns if X_train[col].dtypes == 'O']\n",
    "\n",
    "    encoder = ce.OneHotEncoder(cols=categorical)\n",
    "\n",
    "    X_train = encoder.fit_transform(X_train)\n",
    "    X_test = encoder.transform(X_test)\n",
    "\n",
    "    cols = X_train.columns\n",
    "\n",
    "    scaler = RobustScaler()\n",
    "\n",
    "    X_train = scaler.fit_transform(X_train)\n",
    "    X_test = scaler.transform(X_test)\n",
    "\n",
    "    X_train = pd.DataFrame(X_train, columns=[cols])\n",
    "    X_test = pd.DataFrame(X_test, columns=[cols])\n",
    "\n",
    "\n",
    "    # instantiate the model\n",
    "    svm = SVC()\n",
    "\n",
    "    # fit the model\n",
    "    svm.fit(X_train.values, y_train)\n",
    "\n",
    "    y_pred = svm.predict(X_test.values)\n",
    "\n",
    "    SVM_accuracy_per_fold.append(metrics.accuracy_score(y_test, y_pred));"
   ]
  },
  {
   "cell_type": "code",
   "execution_count": 269,
   "metadata": {},
   "outputs": [
    {
     "name": "stdout",
     "output_type": "stream",
     "text": [
      "Average accuracy:  0.7250204061235029\n"
     ]
    }
   ],
   "source": [
    "SVM_average_accuracy_per_fold = average(SVM_accuracy_per_fold)\n",
    "\n",
    "print(\"Average accuracy: \", SVM_average_accuracy_per_fold)"
   ]
  },
  {
   "cell_type": "code",
   "execution_count": 270,
   "metadata": {},
   "outputs": [
    {
     "data": {
      "image/png": "[encoded data removed]",
      "text/plain": [
       "<Figure size 432x288 with 1 Axes>"
      ]
     },
     "metadata": {
      "needs_background": "light"
     },
     "output_type": "display_data"
    }
   ],
   "source": [
    "plot_accuracy('SVM: Accuracy per fold', SVM_accuracy_per_fold, SVM_average_accuracy_per_fold)"
   ]
  },
  {
   "attachments": {},
   "cell_type": "markdown",
   "metadata": {},
   "source": [
    "## Decision trees"
   ]
  },
  {
   "cell_type": "code",
   "execution_count": 271,
   "metadata": {},
   "outputs": [
    {
     "name": "stdout",
     "output_type": "stream",
     "text": [
      "Fold:1, Train set: 1384, Test set:347\n",
      "Fold:2, Train set: 1385, Test set:346\n",
      "Fold:3, Train set: 1385, Test set:346\n",
      "Fold:4, Train set: 1385, Test set:346\n",
      "Fold:5, Train set: 1385, Test set:346\n"
     ]
    }
   ],
   "source": [
    "from sklearn.tree import DecisionTreeClassifier\n",
    "\n",
    "kf = KFold(n_splits=5, shuffle=True, random_state=42)\n",
    "\n",
    "DT_accuracy_per_fold = []\n",
    "\n",
    "# split()  method generate indices to split data into training and test set.\n",
    "for fold_index, (train_index, test_index) in enumerate(kf.split(X, y)):\n",
    "    print(f'Fold:{fold_index + 1}, Train set: {len(train_index)}, Test set:{len(test_index)}')\n",
    "    X_train, X_test = X.iloc[train_index], X.iloc[test_index]\n",
    "    y_train, y_test = y[train_index], y[test_index]\n",
    "\n",
    "    # display categorical variables\n",
    "    categorical = [col for col in X_train.columns if X_train[col].dtypes == 'O']\n",
    "\n",
    "    encoder = ce.OneHotEncoder(cols=categorical)\n",
    "\n",
    "    X_train = encoder.fit_transform(X_train)\n",
    "    X_test = encoder.transform(X_test)\n",
    "\n",
    "    cols = X_train.columns\n",
    "\n",
    "    scaler = RobustScaler()\n",
    "\n",
    "    X_train = scaler.fit_transform(X_train)\n",
    "    X_test = scaler.transform(X_test)\n",
    "\n",
    "    X_train = pd.DataFrame(X_train, columns=[cols])\n",
    "    X_test = pd.DataFrame(X_test, columns=[cols])\n",
    "\n",
    "\n",
    "    # instantiate the model\n",
    "    dt = DecisionTreeClassifier(random_state=0)\n",
    "\n",
    "    # fit the model\n",
    "    dt.fit(X_train.values, y_train)\n",
    "\n",
    "    y_pred = dt.predict(X_test.values)\n",
    "\n",
    "    DT_accuracy_per_fold.append(metrics.accuracy_score(y_test, y_pred));"
   ]
  },
  {
   "cell_type": "code",
   "execution_count": 272,
   "metadata": {},
   "outputs": [
    {
     "name": "stdout",
     "output_type": "stream",
     "text": [
      "Average accuracy:  0.7273308790458264\n"
     ]
    }
   ],
   "source": [
    "DT_average_accuracy_per_fold = average(DT_accuracy_per_fold)\n",
    "\n",
    "print(\"Average accuracy: \", DT_average_accuracy_per_fold)"
   ]
  },
  {
   "cell_type": "code",
   "execution_count": 273,
   "metadata": {},
   "outputs": [
    {
     "data": {
      "image/png": "[encoded data removed]",
      "text/plain": [
       "<Figure size 432x288 with 1 Axes>"
      ]
     },
     "metadata": {
      "needs_background": "light"
     },
     "output_type": "display_data"
    }
   ],
   "source": [
    "plot_accuracy('DT: Accuracy per fold', DT_accuracy_per_fold, DT_average_accuracy_per_fold)"
   ]
  },
  {
   "attachments": {},
   "cell_type": "markdown",
   "metadata": {},
   "source": [
    "# Bag of words approach\n",
    "\n",
    "\n",
    "### Initial preparation"
   ]
  },
  {
   "cell_type": "code",
   "execution_count": 274,
   "metadata": {},
   "outputs": [
    {
     "name": "stdout",
     "output_type": "stream",
     "text": [
      "0       медведев заговор трета светов войн отсече: е.....\n",
      "1       руси увелич кораб черн море, изстрел украйна.....\n",
      "2       тароло прогноз ключов момент войната, украин п...\n",
      "3       видео войната: всу удар himars болниц луганск ...\n",
      "4       шолц посоч целт герма укра целт герма допусн р...\n",
      "                              ...                        \n",
      "1726    кита загърб украйна, данн показват, че… същот ...\n",
      "1727    wp: вашингтон допусн сценар за... съедин амери...\n",
      "1728    астроло черн прогноз укра в... извест астроло ...\n",
      "1729    орбан: мирът укра завис сащ, не... мирът укра ...\n",
      "1730    боев укра продължава навечерието... руск нашес...\n",
      "Length: 1731, dtype: object\n",
      "0       pro-russian\n",
      "1       pro-russian\n",
      "2       pro-russian\n",
      "3       pro-russian\n",
      "4       pro-russian\n",
      "           ...     \n",
      "1726    pro-russian\n",
      "1727    pro-russian\n",
      "1728    pro-russian\n",
      "1729    pro-russian\n",
      "1730    pro-russian\n",
      "Name: sentiment, Length: 1731, dtype: object\n"
     ]
    }
   ],
   "source": [
    "from sklearn.feature_extraction.text import CountVectorizer\n",
    "\n",
    "X_bag = X[[\"title\", \"text\"]].apply(\" \".join, axis=1)\n",
    "y_bag = y;\n",
    "\n",
    "print(X_bag)\n",
    "print(y_bag)"
   ]
  },
  {
   "cell_type": "code",
   "execution_count": 275,
   "metadata": {},
   "outputs": [
    {
     "name": "stdout",
     "output_type": "stream",
     "text": [
      "Fold:1, Train set: 1384, Test set:347\n",
      "Fold:2, Train set: 1385, Test set:346\n",
      "Fold:3, Train set: 1385, Test set:346\n",
      "Fold:4, Train set: 1385, Test set:346\n",
      "Fold:5, Train set: 1385, Test set:346\n"
     ]
    }
   ],
   "source": [
    "kf = KFold(n_splits=5, shuffle=True, random_state=42)\n",
    "\n",
    "from sklearn.naive_bayes import MultinomialNB\n",
    "\n",
    "mnb_accuracy_per_fold = []\n",
    "\n",
    "# split()  method generate indices to split data into training and test set.\n",
    "for fold_index, (train_index, test_index) in enumerate(kf.split(X_bag, y_bag)):\n",
    "    print(f'Fold:{fold_index + 1}, Train set: {len(train_index)}, Test set:{len(test_index)}')\n",
    "    X_train, X_test = X_bag.iloc[train_index], X_bag.iloc[test_index]\n",
    "    y_train, y_test = y_bag[train_index], y_bag[test_index]\n",
    "\n",
    "    vect = CountVectorizer()\n",
    "\n",
    "    X_train = vect.fit_transform(X_train)\n",
    "    X_test = vect.transform(X_test)\n",
    "\n",
    "    # instantiate the model\n",
    "    mnb = MultinomialNB()\n",
    "\n",
    "\n",
    "    # fit the model\n",
    "    mnb.fit(X_train, y_train)\n",
    "\n",
    "    y_pred = mnb.predict(X_test)\n",
    "\n",
    "    mnb_accuracy_per_fold.append(metrics.accuracy_score(y_test, y_pred));"
   ]
  },
  {
   "cell_type": "code",
   "execution_count": 276,
   "metadata": {},
   "outputs": [
    {
     "name": "stdout",
     "output_type": "stream",
     "text": [
      "Average accuracy:  0.8324748879745464\n"
     ]
    }
   ],
   "source": [
    "mnb_average_accuracy_per_fold = average(mnb_accuracy_per_fold)\n",
    "\n",
    "print(\"Average accuracy: \", mnb_average_accuracy_per_fold)"
   ]
  },
  {
   "cell_type": "code",
   "execution_count": 277,
   "metadata": {},
   "outputs": [
    {
     "data": {
      "image/png": "[encoded data removed]",
      "text/plain": [
       "<Figure size 432x288 with 1 Axes>"
      ]
     },
     "metadata": {
      "needs_background": "light"
     },
     "output_type": "display_data"
    }
   ],
   "source": [
    "plot_accuracy('MNB: Accuracy per fold', mnb_accuracy_per_fold, mnb_average_accuracy_per_fold)"
   ]
  },
  {
   "cell_type": "code",
   "execution_count": 286,
   "metadata": {},
   "outputs": [
    {
     "name": "stdout",
     "output_type": "stream",
     "text": [
      "\n",
      "The optimal number of neighbors is 3.\n",
      "the misclassification error for each k value is :  [0.255 0.252 0.255 0.255 0.265 0.279 0.301 0.342 0.365 0.374 0.371 0.375\n",
      " 0.373 0.37  0.381 0.38  0.384 0.383 0.385 0.383 0.384 0.384 0.387 0.387\n",
      " 0.385]\n",
      "Fold:1, Train set: 1384, Test set:347\n",
      "Fold:2, Train set: 1385, Test set:346\n",
      "Fold:3, Train set: 1385, Test set:346\n",
      "Fold:4, Train set: 1385, Test set:346\n",
      "Fold:5, Train set: 1385, Test set:346\n"
     ]
    },
    {
     "data": {
      "image/png": "[encoded data removed]",
      "text/plain": [
       "<Figure size 720x432 with 1 Axes>"
      ]
     },
     "metadata": {
      "needs_background": "light"
     },
     "output_type": "display_data"
    }
   ],
   "source": [
    "kf = KFold(n_splits=5, shuffle=True, random_state=42)\n",
    "\n",
    "bw_kNN_accuracy_per_fold = []\n",
    "\n",
    "train_index, test_index = next(kf.split(X_bag, y_bag))\n",
    "X_train, X_test = X_bag.iloc[train_index], X_bag.iloc[test_index]\n",
    "y_train, y_test = y_bag[train_index], y_bag[test_index]\n",
    "\n",
    "vect = CountVectorizer()\n",
    "\n",
    "X_train = vect.fit_transform(X_train)\n",
    "X_test = vect.transform(X_test)\n",
    "\n",
    "k_range = list(range(0,50))\n",
    "\n",
    "optimal_k = find_optimal_k(X_train, y_train, k_range)\n",
    "\n",
    "# split()  method generate indices to split data into training and test set.\n",
    "for fold_index, (train_index, test_index) in enumerate(kf.split(X_bag, y_bag)):\n",
    "    print(f'Fold:{fold_index + 1}, Train set: {len(train_index)}, Test set:{len(test_index)}')\n",
    "    X_train, X_test = X_bag.iloc[train_index], X_bag.iloc[test_index]\n",
    "    y_train, y_test = y_bag[train_index], y_bag[test_index]\n",
    "\n",
    "    vect = CountVectorizer()\n",
    "\n",
    "    X_train = vect.fit_transform(X_train)\n",
    "    X_test = vect.transform(X_test)\n",
    "\n",
    "    # instantiate the model\n",
    "    kNN = KNeighborsClassifier(n_neighbors=optimal_k)\n",
    "\n",
    "\n",
    "    # fit the model\n",
    "    kNN.fit(X_train, y_train)\n",
    "\n",
    "    y_pred = kNN.predict(X_test)\n",
    "\n",
    "    bw_kNN_accuracy_per_fold.append(metrics.accuracy_score(y_test, y_pred));"
   ]
  },
  {
   "cell_type": "code",
   "execution_count": 287,
   "metadata": {},
   "outputs": [
    {
     "name": "stdout",
     "output_type": "stream",
     "text": [
      "Average accuracy:  0.7521847045693058\n"
     ]
    }
   ],
   "source": [
    "bw_kNN_average_accuracy_per_fold = average(bw_kNN_accuracy_per_fold)\n",
    "\n",
    "print(\"Average accuracy: \", bw_kNN_average_accuracy_per_fold)"
   ]
  },
  {
   "cell_type": "code",
   "execution_count": 288,
   "metadata": {},
   "outputs": [
    {
     "data": {
      "image/png": "[encoded data removed]",
      "text/plain": [
       "<Figure size 432x288 with 1 Axes>"
      ]
     },
     "metadata": {
      "needs_background": "light"
     },
     "output_type": "display_data"
    }
   ],
   "source": [
    "plot_accuracy('BW kNN: Accuracy per fold', bw_kNN_accuracy_per_fold, bw_kNN_average_accuracy_per_fold)"
   ]
  },
  {
   "attachments": {},
   "cell_type": "markdown",
   "metadata": {},
   "source": [
    "# Comparison of the different approaches"
   ]
  },
  {
   "cell_type": "code",
   "execution_count": 290,
   "metadata": {},
   "outputs": [
    {
     "data": {
      "text/plain": [
       "<matplotlib.legend.Legend at 0x222529331f0>"
      ]
     },
     "execution_count": 290,
     "metadata": {},
     "output_type": "execute_result"
    },
    {
     "data": {
      "image/png": "[encoded data removed]",
      "text/plain": [
       "<Figure size 1008x216 with 1 Axes>"
      ]
     },
     "metadata": {
      "needs_background": "light"
     },
     "output_type": "display_data"
    }
   ],
   "source": [
    "plt.figure(figsize=(14, 3))\n",
    "comparison_chart_columns = ['OH: GNB', 'OH: kNN', 'OH: SVM', 'OH: DT', 'BW: MNB', 'BW: kNN']\n",
    "comparison_chart_values = [gnb_average_accuracy_per_fold, kNN_average_accuracy_per_fold, SVM_average_accuracy_per_fold, DT_average_accuracy_per_fold, mnb_average_accuracy_per_fold, bw_kNN_average_accuracy_per_fold]\n",
    "plt.bar(comparison_chart_columns, comparison_chart_values)\n",
    "plt.title('Average accuracy comparison')\n",
    "\n",
    "plt.axhline(y = max(comparison_chart_values), color = 'r', linestyle = '-', label = 'Max (%f)' % max(comparison_chart_values))\n",
    "# plotting the legend\n",
    "plt.legend(bbox_to_anchor = (.08, 0.9), loc = 'upper center')"
   ]
  }
 ],
 "metadata": {
  "kernelspec": {
   "display_name": "base",
   "language": "python",
   "name": "python3"
  },
  "language_info": {
   "codemirror_mode": {
    "name": "ipython",
    "version": 3
   },
   "file_extension": ".py",
   "mimetype": "text/x-python",
   "name": "python",
   "nbconvert_exporter": "python",
   "pygments_lexer": "ipython3",
   "version": "3.9.12"
  },
  "orig_nbformat": 4,
  "vscode": {
   "interpreter": {
    "hash": "98cd9ce5212bf9ce85c0f1182e743609272a97722fbdb5c25eb8e9b8df063bd8"
   }
  }
 },
 "nbformat": 4,
 "nbformat_minor": 2
}
